{
 "cells": [
  {
   "cell_type": "code",
   "execution_count": 18,
   "id": "34a78f0c-5283-4636-9f25-466d38fc095c",
   "metadata": {},
   "outputs": [],
   "source": [
    "import pandas as pd\n",
    "import sqlite3"
   ]
  },
  {
   "cell_type": "code",
   "execution_count": 2,
   "id": "0dc49dfe-72e8-464e-ab92-df5759c2fbde",
   "metadata": {},
   "outputs": [],
   "source": [
    "df = pd.read_csv('cad_cia_aberta.csv', sep =';', encoding=\"ISO-8859-1\")"
   ]
  },
  {
   "cell_type": "code",
   "execution_count": 3,
   "id": "31a7a36f-2a74-4c76-abe5-b784ee87c1a3",
   "metadata": {},
   "outputs": [
    {
     "data": {
      "text/html": [
       "<div>\n",
       "<style scoped>\n",
       "    .dataframe tbody tr th:only-of-type {\n",
       "        vertical-align: middle;\n",
       "    }\n",
       "\n",
       "    .dataframe tbody tr th {\n",
       "        vertical-align: top;\n",
       "    }\n",
       "\n",
       "    .dataframe thead th {\n",
       "        text-align: right;\n",
       "    }\n",
       "</style>\n",
       "<table border=\"1\" class=\"dataframe\">\n",
       "  <thead>\n",
       "    <tr style=\"text-align: right;\">\n",
       "      <th></th>\n",
       "      <th>CNPJ_CIA</th>\n",
       "      <th>DENOM_SOCIAL</th>\n",
       "      <th>DENOM_COMERC</th>\n",
       "      <th>DT_REG</th>\n",
       "      <th>DT_CONST</th>\n",
       "      <th>DT_CANCEL</th>\n",
       "      <th>MOTIVO_CANCEL</th>\n",
       "      <th>SIT</th>\n",
       "      <th>DT_INI_SIT</th>\n",
       "      <th>CD_CVM</th>\n",
       "      <th>...</th>\n",
       "      <th>UF_RESP</th>\n",
       "      <th>PAIS_RESP</th>\n",
       "      <th>CEP_RESP</th>\n",
       "      <th>DDD_TEL_RESP</th>\n",
       "      <th>TEL_RESP</th>\n",
       "      <th>DDD_FAX_RESP</th>\n",
       "      <th>FAX_RESP</th>\n",
       "      <th>EMAIL_RESP</th>\n",
       "      <th>CNPJ_AUDITOR</th>\n",
       "      <th>AUDITOR</th>\n",
       "    </tr>\n",
       "  </thead>\n",
       "  <tbody>\n",
       "    <tr>\n",
       "      <th>0</th>\n",
       "      <td>08.773.135/0001-00</td>\n",
       "      <td>2W ECOBANK S.A.</td>\n",
       "      <td>2W ECOBANK S.A.</td>\n",
       "      <td>2020-10-29</td>\n",
       "      <td>2007-03-23</td>\n",
       "      <td>NaN</td>\n",
       "      <td>NaN</td>\n",
       "      <td>ATIVO</td>\n",
       "      <td>2020-10-29</td>\n",
       "      <td>25224</td>\n",
       "      <td>...</td>\n",
       "      <td>SP</td>\n",
       "      <td>NaN</td>\n",
       "      <td>4707000.0</td>\n",
       "      <td>11</td>\n",
       "      <td>39579400.0</td>\n",
       "      <td>NaN</td>\n",
       "      <td>NaN</td>\n",
       "      <td>ri@2wecobank.com.br</td>\n",
       "      <td>52.803.244/0001-06</td>\n",
       "      <td>KPMG AUDITORES ASSOCIADOS</td>\n",
       "    </tr>\n",
       "    <tr>\n",
       "      <th>1</th>\n",
       "      <td>11.396.633/0001-87</td>\n",
       "      <td>3A COMPANHIA SECURITIZADORA</td>\n",
       "      <td>TRIPLO A  COMPANHIA SECURITIZADORA</td>\n",
       "      <td>2010-03-08</td>\n",
       "      <td>2009-11-03</td>\n",
       "      <td>2015-12-18</td>\n",
       "      <td>Cancelamento Voluntário - IN CVM 480/09</td>\n",
       "      <td>CANCELADA</td>\n",
       "      <td>2015-12-18</td>\n",
       "      <td>21954</td>\n",
       "      <td>...</td>\n",
       "      <td>RJ</td>\n",
       "      <td>NaN</td>\n",
       "      <td>20020000.0</td>\n",
       "      <td>21</td>\n",
       "      <td>22338867.0</td>\n",
       "      <td>21.0</td>\n",
       "      <td>22338867.0</td>\n",
       "      <td>juridico@triploasec.com.br</td>\n",
       "      <td>60.525.706/0001-07</td>\n",
       "      <td>MOORE STEPHENS LIMA LUCCHESI AUDITORES INDEPEN...</td>\n",
       "    </tr>\n",
       "    <tr>\n",
       "      <th>2</th>\n",
       "      <td>12.091.809/0001-55</td>\n",
       "      <td>3R PETROLEUM OLÉO E GÁS S.A.</td>\n",
       "      <td>NaN</td>\n",
       "      <td>2020-11-09</td>\n",
       "      <td>2010-06-08</td>\n",
       "      <td>NaN</td>\n",
       "      <td>NaN</td>\n",
       "      <td>ATIVO</td>\n",
       "      <td>2020-11-09</td>\n",
       "      <td>25291</td>\n",
       "      <td>...</td>\n",
       "      <td>RJ</td>\n",
       "      <td>NaN</td>\n",
       "      <td>22250145.0</td>\n",
       "      <td>21</td>\n",
       "      <td>34755555.0</td>\n",
       "      <td>NaN</td>\n",
       "      <td>NaN</td>\n",
       "      <td>ri@3rpetroleum.com.br</td>\n",
       "      <td>57.755.217/0001-29</td>\n",
       "      <td>KPMG AUDITORES INDEPENDENTES LTDA.</td>\n",
       "    </tr>\n",
       "    <tr>\n",
       "      <th>3</th>\n",
       "      <td>01.547.749/0001-16</td>\n",
       "      <td>521 PARTICIPAÇOES S.A. - EM LIQUIDAÇÃO EXTRAJU...</td>\n",
       "      <td>521 PARTICIPAÇÕES S/A</td>\n",
       "      <td>1997-07-11</td>\n",
       "      <td>1996-07-30</td>\n",
       "      <td>NaN</td>\n",
       "      <td>NaN</td>\n",
       "      <td>ATIVO</td>\n",
       "      <td>1997-07-11</td>\n",
       "      <td>16330</td>\n",
       "      <td>...</td>\n",
       "      <td>NaN</td>\n",
       "      <td>NaN</td>\n",
       "      <td>NaN</td>\n",
       "      <td>NaN</td>\n",
       "      <td>NaN</td>\n",
       "      <td>NaN</td>\n",
       "      <td>NaN</td>\n",
       "      <td>NaN</td>\n",
       "      <td>13.859.935/0001-70</td>\n",
       "      <td>BAKER TILLY BRASIL RJ AUDITORES INDEPENDENTES ...</td>\n",
       "    </tr>\n",
       "    <tr>\n",
       "      <th>4</th>\n",
       "      <td>01.851.771/0001-55</td>\n",
       "      <td>524 PARTICIPAÇOES SA</td>\n",
       "      <td>524 PARTICIPACOES SA</td>\n",
       "      <td>1997-05-30</td>\n",
       "      <td>1997-04-02</td>\n",
       "      <td>NaN</td>\n",
       "      <td>NaN</td>\n",
       "      <td>ATIVO</td>\n",
       "      <td>1997-05-30</td>\n",
       "      <td>16284</td>\n",
       "      <td>...</td>\n",
       "      <td>RJ</td>\n",
       "      <td>NaN</td>\n",
       "      <td>20020010.0</td>\n",
       "      <td>21</td>\n",
       "      <td>38043700.0</td>\n",
       "      <td>NaN</td>\n",
       "      <td>NaN</td>\n",
       "      <td>gar@opportunity.com.br</td>\n",
       "      <td>40.262.602/0001-31</td>\n",
       "      <td>BKR - LOPES, MACHADO AUDITORES</td>\n",
       "    </tr>\n",
       "  </tbody>\n",
       "</table>\n",
       "<p>5 rows × 47 columns</p>\n",
       "</div>"
      ],
      "text/plain": [
       "             CNPJ_CIA                                       DENOM_SOCIAL  \\\n",
       "0  08.773.135/0001-00                                    2W ECOBANK S.A.   \n",
       "1  11.396.633/0001-87                        3A COMPANHIA SECURITIZADORA   \n",
       "2  12.091.809/0001-55                       3R PETROLEUM OLÉO E GÁS S.A.   \n",
       "3  01.547.749/0001-16  521 PARTICIPAÇOES S.A. - EM LIQUIDAÇÃO EXTRAJU...   \n",
       "4  01.851.771/0001-55                               524 PARTICIPAÇOES SA   \n",
       "\n",
       "                         DENOM_COMERC      DT_REG    DT_CONST   DT_CANCEL  \\\n",
       "0                     2W ECOBANK S.A.  2020-10-29  2007-03-23         NaN   \n",
       "1  TRIPLO A  COMPANHIA SECURITIZADORA  2010-03-08  2009-11-03  2015-12-18   \n",
       "2                                 NaN  2020-11-09  2010-06-08         NaN   \n",
       "3               521 PARTICIPAÇÕES S/A  1997-07-11  1996-07-30         NaN   \n",
       "4                524 PARTICIPACOES SA  1997-05-30  1997-04-02         NaN   \n",
       "\n",
       "                             MOTIVO_CANCEL        SIT  DT_INI_SIT  CD_CVM  \\\n",
       "0                                      NaN      ATIVO  2020-10-29   25224   \n",
       "1  Cancelamento Voluntário - IN CVM 480/09  CANCELADA  2015-12-18   21954   \n",
       "2                                      NaN      ATIVO  2020-11-09   25291   \n",
       "3                                      NaN      ATIVO  1997-07-11   16330   \n",
       "4                                      NaN      ATIVO  1997-05-30   16284   \n",
       "\n",
       "   ... UF_RESP PAIS_RESP    CEP_RESP DDD_TEL_RESP    TEL_RESP DDD_FAX_RESP  \\\n",
       "0  ...      SP       NaN   4707000.0           11  39579400.0          NaN   \n",
       "1  ...      RJ       NaN  20020000.0           21  22338867.0         21.0   \n",
       "2  ...      RJ       NaN  22250145.0           21  34755555.0          NaN   \n",
       "3  ...     NaN       NaN         NaN          NaN         NaN          NaN   \n",
       "4  ...      RJ       NaN  20020010.0           21  38043700.0          NaN   \n",
       "\n",
       "     FAX_RESP                  EMAIL_RESP        CNPJ_AUDITOR  \\\n",
       "0         NaN         ri@2wecobank.com.br  52.803.244/0001-06   \n",
       "1  22338867.0  juridico@triploasec.com.br  60.525.706/0001-07   \n",
       "2         NaN       ri@3rpetroleum.com.br  57.755.217/0001-29   \n",
       "3         NaN                         NaN  13.859.935/0001-70   \n",
       "4         NaN      gar@opportunity.com.br  40.262.602/0001-31   \n",
       "\n",
       "                                             AUDITOR  \n",
       "0                          KPMG AUDITORES ASSOCIADOS  \n",
       "1  MOORE STEPHENS LIMA LUCCHESI AUDITORES INDEPEN...  \n",
       "2                 KPMG AUDITORES INDEPENDENTES LTDA.  \n",
       "3  BAKER TILLY BRASIL RJ AUDITORES INDEPENDENTES ...  \n",
       "4                     BKR - LOPES, MACHADO AUDITORES  \n",
       "\n",
       "[5 rows x 47 columns]"
      ]
     },
     "execution_count": 3,
     "metadata": {},
     "output_type": "execute_result"
    }
   ],
   "source": [
    "df.head()"
   ]
  },
  {
   "cell_type": "code",
   "execution_count": 4,
   "id": "1e256538-de7b-4753-ba92-c125b6e39cd4",
   "metadata": {},
   "outputs": [],
   "source": [
    "#manter apenas colunas necessarias\n",
    "df = df[['CNPJ_CIA','DENOM_SOCIAL','SIT']]"
   ]
  },
  {
   "cell_type": "code",
   "execution_count": 5,
   "id": "bb66b458-51e7-445b-95b5-05ccb1bc2c9a",
   "metadata": {},
   "outputs": [
    {
     "data": {
      "text/html": [
       "<div>\n",
       "<style scoped>\n",
       "    .dataframe tbody tr th:only-of-type {\n",
       "        vertical-align: middle;\n",
       "    }\n",
       "\n",
       "    .dataframe tbody tr th {\n",
       "        vertical-align: top;\n",
       "    }\n",
       "\n",
       "    .dataframe thead th {\n",
       "        text-align: right;\n",
       "    }\n",
       "</style>\n",
       "<table border=\"1\" class=\"dataframe\">\n",
       "  <thead>\n",
       "    <tr style=\"text-align: right;\">\n",
       "      <th></th>\n",
       "      <th>CNPJ_CIA</th>\n",
       "      <th>DENOM_SOCIAL</th>\n",
       "      <th>SIT</th>\n",
       "    </tr>\n",
       "  </thead>\n",
       "  <tbody>\n",
       "    <tr>\n",
       "      <th>0</th>\n",
       "      <td>08.773.135/0001-00</td>\n",
       "      <td>2W ECOBANK S.A.</td>\n",
       "      <td>ATIVO</td>\n",
       "    </tr>\n",
       "    <tr>\n",
       "      <th>1</th>\n",
       "      <td>11.396.633/0001-87</td>\n",
       "      <td>3A COMPANHIA SECURITIZADORA</td>\n",
       "      <td>CANCELADA</td>\n",
       "    </tr>\n",
       "    <tr>\n",
       "      <th>2</th>\n",
       "      <td>12.091.809/0001-55</td>\n",
       "      <td>3R PETROLEUM OLÉO E GÁS S.A.</td>\n",
       "      <td>ATIVO</td>\n",
       "    </tr>\n",
       "    <tr>\n",
       "      <th>3</th>\n",
       "      <td>01.547.749/0001-16</td>\n",
       "      <td>521 PARTICIPAÇOES S.A. - EM LIQUIDAÇÃO EXTRAJU...</td>\n",
       "      <td>ATIVO</td>\n",
       "    </tr>\n",
       "    <tr>\n",
       "      <th>4</th>\n",
       "      <td>01.851.771/0001-55</td>\n",
       "      <td>524 PARTICIPAÇOES SA</td>\n",
       "      <td>ATIVO</td>\n",
       "    </tr>\n",
       "  </tbody>\n",
       "</table>\n",
       "</div>"
      ],
      "text/plain": [
       "             CNPJ_CIA                                       DENOM_SOCIAL  \\\n",
       "0  08.773.135/0001-00                                    2W ECOBANK S.A.   \n",
       "1  11.396.633/0001-87                        3A COMPANHIA SECURITIZADORA   \n",
       "2  12.091.809/0001-55                       3R PETROLEUM OLÉO E GÁS S.A.   \n",
       "3  01.547.749/0001-16  521 PARTICIPAÇOES S.A. - EM LIQUIDAÇÃO EXTRAJU...   \n",
       "4  01.851.771/0001-55                               524 PARTICIPAÇOES SA   \n",
       "\n",
       "         SIT  \n",
       "0      ATIVO  \n",
       "1  CANCELADA  \n",
       "2      ATIVO  \n",
       "3      ATIVO  \n",
       "4      ATIVO  "
      ]
     },
     "execution_count": 5,
     "metadata": {},
     "output_type": "execute_result"
    }
   ],
   "source": [
    "df.head()"
   ]
  },
  {
   "cell_type": "code",
   "execution_count": 6,
   "id": "72a04475-a519-4f0c-8258-7176fb7cbc66",
   "metadata": {},
   "outputs": [
    {
     "data": {
      "text/html": [
       "<div>\n",
       "<style scoped>\n",
       "    .dataframe tbody tr th:only-of-type {\n",
       "        vertical-align: middle;\n",
       "    }\n",
       "\n",
       "    .dataframe tbody tr th {\n",
       "        vertical-align: top;\n",
       "    }\n",
       "\n",
       "    .dataframe thead th {\n",
       "        text-align: right;\n",
       "    }\n",
       "</style>\n",
       "<table border=\"1\" class=\"dataframe\">\n",
       "  <thead>\n",
       "    <tr style=\"text-align: right;\">\n",
       "      <th></th>\n",
       "      <th>CNPJ_CIA</th>\n",
       "      <th>DENOM_SOCIAL</th>\n",
       "      <th>SIT</th>\n",
       "    </tr>\n",
       "  </thead>\n",
       "  <tbody>\n",
       "    <tr>\n",
       "      <th>count</th>\n",
       "      <td>2604</td>\n",
       "      <td>2604</td>\n",
       "      <td>2604</td>\n",
       "    </tr>\n",
       "    <tr>\n",
       "      <th>unique</th>\n",
       "      <td>2475</td>\n",
       "      <td>2470</td>\n",
       "      <td>3</td>\n",
       "    </tr>\n",
       "    <tr>\n",
       "      <th>top</th>\n",
       "      <td>62.063.177/0001-94</td>\n",
       "      <td>VIBRA ENERGIA S/A</td>\n",
       "      <td>CANCELADA</td>\n",
       "    </tr>\n",
       "    <tr>\n",
       "      <th>freq</th>\n",
       "      <td>3</td>\n",
       "      <td>3</td>\n",
       "      <td>1823</td>\n",
       "    </tr>\n",
       "  </tbody>\n",
       "</table>\n",
       "</div>"
      ],
      "text/plain": [
       "                  CNPJ_CIA       DENOM_SOCIAL        SIT\n",
       "count                 2604               2604       2604\n",
       "unique                2475               2470          3\n",
       "top     62.063.177/0001-94  VIBRA ENERGIA S/A  CANCELADA\n",
       "freq                     3                  3       1823"
      ]
     },
     "execution_count": 6,
     "metadata": {},
     "output_type": "execute_result"
    }
   ],
   "source": [
    "df.describe()"
   ]
  },
  {
   "cell_type": "code",
   "execution_count": 7,
   "id": "a2c24c92-7ffa-4a82-8406-3b6d0f5beefc",
   "metadata": {},
   "outputs": [
    {
     "data": {
      "text/plain": [
       "CNPJ_CIA        object\n",
       "DENOM_SOCIAL    object\n",
       "SIT             object\n",
       "dtype: object"
      ]
     },
     "execution_count": 7,
     "metadata": {},
     "output_type": "execute_result"
    }
   ],
   "source": [
    "df.dtypes"
   ]
  },
  {
   "cell_type": "code",
   "execution_count": null,
   "id": "c8bfa513-4f01-48ef-b89f-8630a39c5702",
   "metadata": {},
   "outputs": [],
   "source": [
    "#criar um banco de dados e salvar as informações que foram extraidas para o csv"
   ]
  },
  {
   "cell_type": "code",
   "execution_count": 8,
   "id": "04e711e8-1d10-448e-9c0c-f0a885244dc4",
   "metadata": {},
   "outputs": [],
   "source": [
    "conn = sqlite3.connect('Sparta.db')\n",
    "c = conn.cursor()"
   ]
  },
  {
   "cell_type": "code",
   "execution_count": null,
   "id": "ad02dfe1-fba9-4533-a3b0-63e7c8887230",
   "metadata": {},
   "outputs": [],
   "source": [
    "df.to_sql(name='cias', con=conn)"
   ]
  },
  {
   "cell_type": "code",
   "execution_count": 10,
   "id": "eb7b9848-33ea-42a7-8f34-8072b18fff00",
   "metadata": {},
   "outputs": [
    {
     "name": "stdout",
     "output_type": "stream",
     "text": [
      "cias\n"
     ]
    }
   ],
   "source": [
    "!sqlite3 Sparta.db \".tables\""
   ]
  },
  {
   "cell_type": "code",
   "execution_count": 11,
   "id": "fd3c1d7e-d1a3-42e7-b410-51f400a0342d",
   "metadata": {},
   "outputs": [],
   "source": [
    "!sqlite3 Sparta.db \"PRAGMA tables_info(cias)\""
   ]
  },
  {
   "cell_type": "code",
   "execution_count": 12,
   "id": "dc6cfb2c-6033-475f-92b9-26cd7681896f",
   "metadata": {},
   "outputs": [],
   "source": [
    "df_read = pd.read_sql(\"select * from cias\", con=conn)"
   ]
  },
  {
   "cell_type": "code",
   "execution_count": 13,
   "id": "cd737543-d428-42bd-a52e-541d08765b51",
   "metadata": {},
   "outputs": [
    {
     "data": {
      "text/html": [
       "<div>\n",
       "<style scoped>\n",
       "    .dataframe tbody tr th:only-of-type {\n",
       "        vertical-align: middle;\n",
       "    }\n",
       "\n",
       "    .dataframe tbody tr th {\n",
       "        vertical-align: top;\n",
       "    }\n",
       "\n",
       "    .dataframe thead th {\n",
       "        text-align: right;\n",
       "    }\n",
       "</style>\n",
       "<table border=\"1\" class=\"dataframe\">\n",
       "  <thead>\n",
       "    <tr style=\"text-align: right;\">\n",
       "      <th></th>\n",
       "      <th>index</th>\n",
       "      <th>CNPJ_CIA</th>\n",
       "      <th>DENOM_SOCIAL</th>\n",
       "      <th>SIT</th>\n",
       "    </tr>\n",
       "  </thead>\n",
       "  <tbody>\n",
       "    <tr>\n",
       "      <th>0</th>\n",
       "      <td>0</td>\n",
       "      <td>08.773.135/0001-00</td>\n",
       "      <td>2W ECOBANK S.A.</td>\n",
       "      <td>ATIVO</td>\n",
       "    </tr>\n",
       "    <tr>\n",
       "      <th>1</th>\n",
       "      <td>1</td>\n",
       "      <td>11.396.633/0001-87</td>\n",
       "      <td>3A COMPANHIA SECURITIZADORA</td>\n",
       "      <td>CANCELADA</td>\n",
       "    </tr>\n",
       "    <tr>\n",
       "      <th>2</th>\n",
       "      <td>2</td>\n",
       "      <td>12.091.809/0001-55</td>\n",
       "      <td>3R PETROLEUM OLÉO E GÁS S.A.</td>\n",
       "      <td>ATIVO</td>\n",
       "    </tr>\n",
       "    <tr>\n",
       "      <th>3</th>\n",
       "      <td>3</td>\n",
       "      <td>01.547.749/0001-16</td>\n",
       "      <td>521 PARTICIPAÇOES S.A. - EM LIQUIDAÇÃO EXTRAJU...</td>\n",
       "      <td>ATIVO</td>\n",
       "    </tr>\n",
       "    <tr>\n",
       "      <th>4</th>\n",
       "      <td>4</td>\n",
       "      <td>01.851.771/0001-55</td>\n",
       "      <td>524 PARTICIPAÇOES SA</td>\n",
       "      <td>ATIVO</td>\n",
       "    </tr>\n",
       "    <tr>\n",
       "      <th>...</th>\n",
       "      <td>...</td>\n",
       "      <td>...</td>\n",
       "      <td>...</td>\n",
       "      <td>...</td>\n",
       "    </tr>\n",
       "    <tr>\n",
       "      <th>2599</th>\n",
       "      <td>2599</td>\n",
       "      <td>13.574.594/0001-96</td>\n",
       "      <td>ZAMP S.A.</td>\n",
       "      <td>ATIVO</td>\n",
       "    </tr>\n",
       "    <tr>\n",
       "      <th>2600</th>\n",
       "      <td>2600</td>\n",
       "      <td>71.320.931/0001-15</td>\n",
       "      <td>ZANINI SA EQUIPS PESADOS</td>\n",
       "      <td>CANCELADA</td>\n",
       "    </tr>\n",
       "    <tr>\n",
       "      <th>2601</th>\n",
       "      <td>2601</td>\n",
       "      <td>24.744.012/0001-99</td>\n",
       "      <td>ZH OPERAÇÕES S/A</td>\n",
       "      <td>CANCELADA</td>\n",
       "    </tr>\n",
       "    <tr>\n",
       "      <th>2602</th>\n",
       "      <td>2602</td>\n",
       "      <td>92.749.217/0001-17</td>\n",
       "      <td>ZIVI SA CUTELARIA</td>\n",
       "      <td>CANCELADA</td>\n",
       "    </tr>\n",
       "    <tr>\n",
       "      <th>2603</th>\n",
       "      <td>2603</td>\n",
       "      <td>74.533.787/0001-93</td>\n",
       "      <td>ZOGBI LEASING S/A ARRENDAMENTO MERCANTIL</td>\n",
       "      <td>CANCELADA</td>\n",
       "    </tr>\n",
       "  </tbody>\n",
       "</table>\n",
       "<p>2604 rows × 4 columns</p>\n",
       "</div>"
      ],
      "text/plain": [
       "      index            CNPJ_CIA  \\\n",
       "0         0  08.773.135/0001-00   \n",
       "1         1  11.396.633/0001-87   \n",
       "2         2  12.091.809/0001-55   \n",
       "3         3  01.547.749/0001-16   \n",
       "4         4  01.851.771/0001-55   \n",
       "...     ...                 ...   \n",
       "2599   2599  13.574.594/0001-96   \n",
       "2600   2600  71.320.931/0001-15   \n",
       "2601   2601  24.744.012/0001-99   \n",
       "2602   2602  92.749.217/0001-17   \n",
       "2603   2603  74.533.787/0001-93   \n",
       "\n",
       "                                           DENOM_SOCIAL        SIT  \n",
       "0                                       2W ECOBANK S.A.      ATIVO  \n",
       "1                           3A COMPANHIA SECURITIZADORA  CANCELADA  \n",
       "2                          3R PETROLEUM OLÉO E GÁS S.A.      ATIVO  \n",
       "3     521 PARTICIPAÇOES S.A. - EM LIQUIDAÇÃO EXTRAJU...      ATIVO  \n",
       "4                                  524 PARTICIPAÇOES SA      ATIVO  \n",
       "...                                                 ...        ...  \n",
       "2599                                          ZAMP S.A.      ATIVO  \n",
       "2600                           ZANINI SA EQUIPS PESADOS  CANCELADA  \n",
       "2601                                   ZH OPERAÇÕES S/A  CANCELADA  \n",
       "2602                                  ZIVI SA CUTELARIA  CANCELADA  \n",
       "2603           ZOGBI LEASING S/A ARRENDAMENTO MERCANTIL  CANCELADA  \n",
       "\n",
       "[2604 rows x 4 columns]"
      ]
     },
     "execution_count": 13,
     "metadata": {},
     "output_type": "execute_result"
    }
   ],
   "source": [
    "df_read"
   ]
  },
  {
   "cell_type": "code",
   "execution_count": 14,
   "id": "21e85cb5-b8ad-410e-8f9b-c8a1c87fdbb0",
   "metadata": {
    "scrolled": true
   },
   "outputs": [
    {
     "data": {
      "text/html": [
       "<div>\n",
       "<style scoped>\n",
       "    .dataframe tbody tr th:only-of-type {\n",
       "        vertical-align: middle;\n",
       "    }\n",
       "\n",
       "    .dataframe tbody tr th {\n",
       "        vertical-align: top;\n",
       "    }\n",
       "\n",
       "    .dataframe thead th {\n",
       "        text-align: right;\n",
       "    }\n",
       "</style>\n",
       "<table border=\"1\" class=\"dataframe\">\n",
       "  <thead>\n",
       "    <tr style=\"text-align: right;\">\n",
       "      <th></th>\n",
       "      <th>SIT</th>\n",
       "    </tr>\n",
       "  </thead>\n",
       "  <tbody>\n",
       "    <tr>\n",
       "      <th>0</th>\n",
       "      <td>ATIVO</td>\n",
       "    </tr>\n",
       "    <tr>\n",
       "      <th>1</th>\n",
       "      <td>ATIVO</td>\n",
       "    </tr>\n",
       "    <tr>\n",
       "      <th>2</th>\n",
       "      <td>ATIVO</td>\n",
       "    </tr>\n",
       "    <tr>\n",
       "      <th>3</th>\n",
       "      <td>ATIVO</td>\n",
       "    </tr>\n",
       "    <tr>\n",
       "      <th>4</th>\n",
       "      <td>ATIVO</td>\n",
       "    </tr>\n",
       "    <tr>\n",
       "      <th>...</th>\n",
       "      <td>...</td>\n",
       "    </tr>\n",
       "    <tr>\n",
       "      <th>773</th>\n",
       "      <td>ATIVO</td>\n",
       "    </tr>\n",
       "    <tr>\n",
       "      <th>774</th>\n",
       "      <td>ATIVO</td>\n",
       "    </tr>\n",
       "    <tr>\n",
       "      <th>775</th>\n",
       "      <td>ATIVO</td>\n",
       "    </tr>\n",
       "    <tr>\n",
       "      <th>776</th>\n",
       "      <td>ATIVO</td>\n",
       "    </tr>\n",
       "    <tr>\n",
       "      <th>777</th>\n",
       "      <td>ATIVO</td>\n",
       "    </tr>\n",
       "  </tbody>\n",
       "</table>\n",
       "<p>778 rows × 1 columns</p>\n",
       "</div>"
      ],
      "text/plain": [
       "       SIT\n",
       "0    ATIVO\n",
       "1    ATIVO\n",
       "2    ATIVO\n",
       "3    ATIVO\n",
       "4    ATIVO\n",
       "..     ...\n",
       "773  ATIVO\n",
       "774  ATIVO\n",
       "775  ATIVO\n",
       "776  ATIVO\n",
       "777  ATIVO\n",
       "\n",
       "[778 rows x 1 columns]"
      ]
     },
     "execution_count": 14,
     "metadata": {},
     "output_type": "execute_result"
    }
   ],
   "source": [
    "query = \"\"\"\n",
    "        SELECT SIT FROM CIAS\n",
    "        WHERE SIT=\"ATIVO\";\n",
    "\"\"\"\n",
    "df_read = pd.read_sql(query, con=conn)\n",
    "df_read"
   ]
  },
  {
   "cell_type": "code",
   "execution_count": 111,
   "id": "aa70357c-2804-4c94-8465-63efe07a9936",
   "metadata": {},
   "outputs": [
    {
     "data": {
      "text/plain": [
       "<sqlite3.Cursor at 0x1d933bb9440>"
      ]
     },
     "execution_count": 111,
     "metadata": {},
     "output_type": "execute_result"
    }
   ],
   "source": [
    "c.execute('DROP TABLE changelog') "
   ]
  },
  {
   "cell_type": "code",
   "execution_count": 112,
   "id": "74b1fc14-c9a0-431a-b527-036c8445755a",
   "metadata": {},
   "outputs": [
    {
     "data": {
      "text/plain": [
       "<sqlite3.Cursor at 0x1d933bb9440>"
      ]
     },
     "execution_count": 112,
     "metadata": {},
     "output_type": "execute_result"
    }
   ],
   "source": [
    "#criar uma tabela para salvar as mudanças em DENOM_SOCIAL e SIT\n",
    "c.execute('CREATE TABLE changelog (CNPJ_CIA VARCHAR(255), DENOM_SOCIAL VARCHAR(255), SIT VARCHAR(100), DATA TIMESTAMP)')"
   ]
  },
  {
   "cell_type": "code",
   "execution_count": 113,
   "id": "5aa9dbef-9f25-4eb7-983c-68b65b1f6a95",
   "metadata": {},
   "outputs": [
    {
     "name": "stdout",
     "output_type": "stream",
     "text": [
      "changelog  cias     \n"
     ]
    }
   ],
   "source": [
    "#verificar se a tabela foi criada\n",
    "!sqlite3 Sparta.db \".tables\""
   ]
  },
  {
   "cell_type": "code",
   "execution_count": 114,
   "id": "96088cdb-9f63-4d4d-883c-0ded76078e95",
   "metadata": {},
   "outputs": [
    {
     "data": {
      "text/html": [
       "<div>\n",
       "<style scoped>\n",
       "    .dataframe tbody tr th:only-of-type {\n",
       "        vertical-align: middle;\n",
       "    }\n",
       "\n",
       "    .dataframe tbody tr th {\n",
       "        vertical-align: top;\n",
       "    }\n",
       "\n",
       "    .dataframe thead th {\n",
       "        text-align: right;\n",
       "    }\n",
       "</style>\n",
       "<table border=\"1\" class=\"dataframe\">\n",
       "  <thead>\n",
       "    <tr style=\"text-align: right;\">\n",
       "      <th></th>\n",
       "      <th>CNPJ_CIA</th>\n",
       "      <th>DENOM_SOCIAL</th>\n",
       "      <th>SIT</th>\n",
       "      <th>DATA</th>\n",
       "    </tr>\n",
       "  </thead>\n",
       "  <tbody>\n",
       "  </tbody>\n",
       "</table>\n",
       "</div>"
      ],
      "text/plain": [
       "Empty DataFrame\n",
       "Columns: [CNPJ_CIA, DENOM_SOCIAL, SIT, DATA]\n",
       "Index: []"
      ]
     },
     "execution_count": 114,
     "metadata": {},
     "output_type": "execute_result"
    }
   ],
   "source": [
    " pd.read_sql(\"select * from changelog\", con=conn)"
   ]
  },
  {
   "cell_type": "code",
   "execution_count": 115,
   "id": "e19b902d-89f7-4cda-8e74-ba1704307acf",
   "metadata": {},
   "outputs": [],
   "source": [
    "#criar triggers para salvar a data de quando dados são alterados ou inseridos"
   ]
  },
  {
   "cell_type": "code",
   "execution_count": 142,
   "id": "8773db43-b33d-4077-a17a-25f9abdf6e24",
   "metadata": {},
   "outputs": [
    {
     "data": {
      "text/plain": [
       "<sqlite3.Cursor at 0x1d933bb9440>"
      ]
     },
     "execution_count": 142,
     "metadata": {},
     "output_type": "execute_result"
    }
   ],
   "source": [
    "c.execute(\"drop trigger inserirLog\")\n",
    "c.execute(\"drop trigger inserirLogUpdate\")"
   ]
  },
  {
   "cell_type": "code",
   "execution_count": 143,
   "id": "10007e29-c193-48c8-b9d8-f61ffcee7ac5",
   "metadata": {},
   "outputs": [
    {
     "data": {
      "text/plain": [
       "<sqlite3.Cursor at 0x1d933bb9440>"
      ]
     },
     "execution_count": 143,
     "metadata": {},
     "output_type": "execute_result"
    }
   ],
   "source": [
    "c.execute(\"\"\"\n",
    "CREATE TRIGGER inserirLog AFTER INSERT ON cias\n",
    "BEGIN \n",
    "INSERT INTO changelog (CNPJ_CIA, DENOM_SOCIAL, SIT, DATA) VALUES (new.CNPJ_CIA,new.DENOM_SOCIAL, new.SIT, DATE('now'));\n",
    "END;\n",
    "\n",
    "\"\"\")"
   ]
  },
  {
   "cell_type": "code",
   "execution_count": 144,
   "id": "4e1de2a7-cde3-49b8-93ec-5b4dc164fb6a",
   "metadata": {},
   "outputs": [
    {
     "data": {
      "text/plain": [
       "<sqlite3.Cursor at 0x1d933bb9440>"
      ]
     },
     "execution_count": 144,
     "metadata": {},
     "output_type": "execute_result"
    }
   ],
   "source": [
    "c.execute(\"\"\"\n",
    "CREATE TRIGGER inserirLogUpdate AFTER UPDATE ON cias\n",
    "BEGIN \n",
    "INSERT INTO changelog (CNPJ_CIA, DENOM_SOCIAL, SIT, DATA) VALUES (old.CNPJ_CIA,new.DENOM_SOCIAL, new.SIT, DATE('now'));\n",
    "END;\n",
    "\n",
    "\"\"\")"
   ]
  },
  {
   "cell_type": "code",
   "execution_count": 129,
   "id": "c8424031-8437-4af4-9baf-eb0b53a310bc",
   "metadata": {},
   "outputs": [
    {
     "data": {
      "text/plain": [
       "<sqlite3.Cursor at 0x1d933bb9440>"
      ]
     },
     "execution_count": 129,
     "metadata": {},
     "output_type": "execute_result"
    }
   ],
   "source": [
    "#testar os triggers\n",
    "c.execute(\"\"\"\n",
    "UPDATE cias \n",
    "SET DENOM_SOCIAL = \"COMPANHIA DO OLEO\" \n",
    "WHERE CNPJ_CIA = \"01.851.771/0001-55\"\n",
    "\"\"\")"
   ]
  },
  {
   "cell_type": "code",
   "execution_count": null,
   "id": "95939a8c-3978-4f98-98d3-ba805d2871bf",
   "metadata": {},
   "outputs": [],
   "source": [
    "c.execute(\"\"\"\n",
    "UPDATE cias \n",
    "SET SIT = \"CANCELADO\" \n",
    "WHERE CNPJ_CIA = \"08.773.135/0001-00\"\n",
    "\"\"\")"
   ]
  },
  {
   "cell_type": "code",
   "execution_count": 139,
   "id": "733865e4-ed54-48e0-a99d-c8594b2035f2",
   "metadata": {},
   "outputs": [
    {
     "data": {
      "text/plain": [
       "<sqlite3.Cursor at 0x1d933bb9440>"
      ]
     },
     "execution_count": 139,
     "metadata": {},
     "output_type": "execute_result"
    }
   ],
   "source": [
    "c.execute(\"\"\"\n",
    "INSERT INTO cias \n",
    "(CNPJ_CIA,DENOM_SOCIAL,SIT) VALUES (\"0.2.050.500/400-00\", \"NOVA NEWS\",\"ATIVO\")\n",
    "\"\"\")"
   ]
  },
  {
   "cell_type": "code",
   "execution_count": 140,
   "id": "bbd7af9e-58e2-4cf6-bea3-faca01f7a297",
   "metadata": {},
   "outputs": [
    {
     "data": {
      "text/html": [
       "<div>\n",
       "<style scoped>\n",
       "    .dataframe tbody tr th:only-of-type {\n",
       "        vertical-align: middle;\n",
       "    }\n",
       "\n",
       "    .dataframe tbody tr th {\n",
       "        vertical-align: top;\n",
       "    }\n",
       "\n",
       "    .dataframe thead th {\n",
       "        text-align: right;\n",
       "    }\n",
       "</style>\n",
       "<table border=\"1\" class=\"dataframe\">\n",
       "  <thead>\n",
       "    <tr style=\"text-align: right;\">\n",
       "      <th></th>\n",
       "      <th>CNPJ_CIA</th>\n",
       "      <th>DENOM_SOCIAL</th>\n",
       "      <th>SIT</th>\n",
       "      <th>DATA</th>\n",
       "    </tr>\n",
       "  </thead>\n",
       "  <tbody>\n",
       "    <tr>\n",
       "      <th>0</th>\n",
       "      <td>08.773.135/0001-00</td>\n",
       "      <td>2W ECOBANK S.A.</td>\n",
       "      <td>CANCELADO</td>\n",
       "      <td>2024-06-12</td>\n",
       "    </tr>\n",
       "    <tr>\n",
       "      <th>1</th>\n",
       "      <td>01.851.771/0001-55</td>\n",
       "      <td>COMPANHIA DO OLEO</td>\n",
       "      <td>ATIVO</td>\n",
       "      <td>2024-06-12</td>\n",
       "    </tr>\n",
       "    <tr>\n",
       "      <th>2</th>\n",
       "      <td>0.2.050.500/400-00</td>\n",
       "      <td>NOVA NEWS</td>\n",
       "      <td>ATIVO</td>\n",
       "      <td>2024-06-12</td>\n",
       "    </tr>\n",
       "  </tbody>\n",
       "</table>\n",
       "</div>"
      ],
      "text/plain": [
       "             CNPJ_CIA       DENOM_SOCIAL        SIT        DATA\n",
       "0  08.773.135/0001-00    2W ECOBANK S.A.  CANCELADO  2024-06-12\n",
       "1  01.851.771/0001-55  COMPANHIA DO OLEO      ATIVO  2024-06-12\n",
       "2  0.2.050.500/400-00          NOVA NEWS      ATIVO  2024-06-12"
      ]
     },
     "execution_count": 140,
     "metadata": {},
     "output_type": "execute_result"
    }
   ],
   "source": [
    "#triggers estao funcionando\n",
    "df_read = pd.read_sql(\"select * from changelog\", con=conn)\n",
    "df_read"
   ]
  },
  {
   "cell_type": "code",
   "execution_count": 141,
   "id": "7ae44366-af1e-4b01-b009-713a017a513e",
   "metadata": {},
   "outputs": [
    {
     "data": {
      "text/html": [
       "<div>\n",
       "<style scoped>\n",
       "    .dataframe tbody tr th:only-of-type {\n",
       "        vertical-align: middle;\n",
       "    }\n",
       "\n",
       "    .dataframe tbody tr th {\n",
       "        vertical-align: top;\n",
       "    }\n",
       "\n",
       "    .dataframe thead th {\n",
       "        text-align: right;\n",
       "    }\n",
       "</style>\n",
       "<table border=\"1\" class=\"dataframe\">\n",
       "  <thead>\n",
       "    <tr style=\"text-align: right;\">\n",
       "      <th></th>\n",
       "      <th>CNPJ_CIA</th>\n",
       "      <th>DENOM_SOCIAL</th>\n",
       "      <th>SIT</th>\n",
       "      <th>DATA</th>\n",
       "    </tr>\n",
       "  </thead>\n",
       "  <tbody>\n",
       "    <tr>\n",
       "      <th>0</th>\n",
       "      <td>08.773.135/0001-00</td>\n",
       "      <td>2W ECOBANK S.A.</td>\n",
       "      <td>CANCELADO</td>\n",
       "      <td>2024-06-12</td>\n",
       "    </tr>\n",
       "    <tr>\n",
       "      <th>1</th>\n",
       "      <td>01.851.771/0001-55</td>\n",
       "      <td>COMPANHIA DO OLEO</td>\n",
       "      <td>ATIVO</td>\n",
       "      <td>2024-06-12</td>\n",
       "    </tr>\n",
       "    <tr>\n",
       "      <th>2</th>\n",
       "      <td>0.2.050.500/400-00</td>\n",
       "      <td>NOVA NEWS</td>\n",
       "      <td>ATIVO</td>\n",
       "      <td>2024-06-12</td>\n",
       "    </tr>\n",
       "  </tbody>\n",
       "</table>\n",
       "</div>"
      ],
      "text/plain": [
       "             CNPJ_CIA       DENOM_SOCIAL        SIT        DATA\n",
       "0  08.773.135/0001-00    2W ECOBANK S.A.  CANCELADO  2024-06-12\n",
       "1  01.851.771/0001-55  COMPANHIA DO OLEO      ATIVO  2024-06-12\n",
       "2  0.2.050.500/400-00          NOVA NEWS      ATIVO  2024-06-12"
      ]
     },
     "execution_count": 141,
     "metadata": {},
     "output_type": "execute_result"
    }
   ],
   "source": [
    "pd.read_sql(\"\"\"select * from changelog\n",
    "where DATA BETWEEN '2014-10-09 00:00:00' AND '2024-10-10 23:59:59'  \"\"\", con=conn)\n"
   ]
  },
  {
   "cell_type": "code",
   "execution_count": 145,
   "id": "cea482ef-0d92-4686-a0ff-531cfe153097",
   "metadata": {},
   "outputs": [
    {
     "data": {
      "text/html": [
       "<div>\n",
       "<style scoped>\n",
       "    .dataframe tbody tr th:only-of-type {\n",
       "        vertical-align: middle;\n",
       "    }\n",
       "\n",
       "    .dataframe tbody tr th {\n",
       "        vertical-align: top;\n",
       "    }\n",
       "\n",
       "    .dataframe thead th {\n",
       "        text-align: right;\n",
       "    }\n",
       "</style>\n",
       "<table border=\"1\" class=\"dataframe\">\n",
       "  <thead>\n",
       "    <tr style=\"text-align: right;\">\n",
       "      <th></th>\n",
       "      <th>CNPJ_CIA</th>\n",
       "      <th>DENOM_SOCIAL</th>\n",
       "      <th>SIT</th>\n",
       "      <th>DATA</th>\n",
       "    </tr>\n",
       "  </thead>\n",
       "  <tbody>\n",
       "    <tr>\n",
       "      <th>0</th>\n",
       "      <td>08.773.135/0001-00</td>\n",
       "      <td>2W ECOBANK S.A.</td>\n",
       "      <td>CANCELADO</td>\n",
       "      <td>2024-06-12</td>\n",
       "    </tr>\n",
       "    <tr>\n",
       "      <th>1</th>\n",
       "      <td>01.851.771/0001-55</td>\n",
       "      <td>COMPANHIA DO OLEO</td>\n",
       "      <td>ATIVO</td>\n",
       "      <td>2024-06-12</td>\n",
       "    </tr>\n",
       "    <tr>\n",
       "      <th>2</th>\n",
       "      <td>0.2.050.500/400-00</td>\n",
       "      <td>NOVA NEWS</td>\n",
       "      <td>ATIVO</td>\n",
       "      <td>2024-06-12</td>\n",
       "    </tr>\n",
       "  </tbody>\n",
       "</table>\n",
       "</div>"
      ],
      "text/plain": [
       "             CNPJ_CIA       DENOM_SOCIAL        SIT        DATA\n",
       "0  08.773.135/0001-00    2W ECOBANK S.A.  CANCELADO  2024-06-12\n",
       "1  01.851.771/0001-55  COMPANHIA DO OLEO      ATIVO  2024-06-12\n",
       "2  0.2.050.500/400-00          NOVA NEWS      ATIVO  2024-06-12"
      ]
     },
     "execution_count": 145,
     "metadata": {},
     "output_type": "execute_result"
    }
   ],
   "source": [
    "pd.read_sql(\"\"\"select * from changelog\n",
    "where DATA > '2024-01-01' \"\"\", con=conn)"
   ]
  },
  {
   "cell_type": "code",
   "execution_count": null,
   "id": "98788a0e-905b-48d9-955f-42d9be3f44f0",
   "metadata": {},
   "outputs": [],
   "source": []
  },
  {
   "cell_type": "code",
   "execution_count": 146,
   "id": "31952aa5-276d-40a5-bdb5-2696f794c348",
   "metadata": {},
   "outputs": [],
   "source": [
    "conn.close()"
   ]
  }
 ],
 "metadata": {
  "kernelspec": {
   "display_name": "Python 3 (ipykernel)",
   "language": "python",
   "name": "python3"
  },
  "language_info": {
   "codemirror_mode": {
    "name": "ipython",
    "version": 3
   },
   "file_extension": ".py",
   "mimetype": "text/x-python",
   "name": "python",
   "nbconvert_exporter": "python",
   "pygments_lexer": "ipython3",
   "version": "3.11.7"
  }
 },
 "nbformat": 4,
 "nbformat_minor": 5
}
